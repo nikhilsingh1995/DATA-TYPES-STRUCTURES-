{
  "nbformat": 4,
  "nbformat_minor": 0,
  "metadata": {
    "colab": {
      "provenance": []
    },
    "kernelspec": {
      "name": "python3",
      "display_name": "Python 3"
    },
    "language_info": {
      "name": "python"
    }
  },
  "cells": [
    {
      "cell_type": "markdown",
      "source": [
        "#**Theoretical Questions**"
      ],
      "metadata": {
        "id": "f6Wh3npTQpac"
      }
    },
    {
      "cell_type": "markdown",
      "source": [
        "**01.** What are data structures, and why are they important ?\n",
        "\n",
        "**Answer:**\n",
        "\n",
        "A way of organizing and storing of data , so that it can be accessed easily and manipulated efficiently.\n",
        "\n",
        "Ex. Strings, List, Tuples, Dictionary, Array, Sets etc.\n",
        "\n",
        "Importance of Data structure:\n",
        "\n",
        "a.Data structures help organize and store data efficiently.\n",
        "\n",
        "b.They make it easier to access, modify, and manage large amounts of information.\n",
        "\n",
        "c.Built-in structures like lists, tuples, sets, and dictionaries simplify programming tasks.\n",
        "\n",
        "d.The right data structure improves the speed and performance of programs.\n",
        "\n",
        "e.They are essential for solving complex problems in a clean and logical way."
      ],
      "metadata": {
        "id": "H6zpHwTsTB04"
      }
    },
    {
      "cell_type": "markdown",
      "source": [
        "**2.** Explain the difference between mutable and immutable data types with examples?\n",
        "\n",
        "**Answer:**\n",
        "\n",
        "**Mutable Data Types:**\n",
        "\n",
        "These can be changed after they are created i.e values can be updated in later stages as per rerquirement.\n",
        "\n",
        "Examples: list, dict, set\n",
        "\n",
        "Example:\n",
        "\n",
        "\n",
        "my_list = [1, 2, 3]\n",
        "\n",
        "my_list[0] = 100  # Changes the first element\n",
        "\n",
        "print(my_list)    # Output: [100, 2, 3]\n",
        "\n",
        "**Immutable Data Types:**\n",
        "\n",
        "\n",
        "These cannot be changed once they are created i.e values can not be updated in later stages.\n",
        "\n",
        "Examples: int, float, str, tuple\n",
        "\n",
        "\n",
        "\n",
        "my_string = \"hello\"\n",
        "\n",
        "my_string[0] = 'H'  # This would cause an error!\n",
        "\n",
        "my_string = \"Hello\"   # we can assign a new string, but not modify the original\n",
        "\n",
        "print(my_string)      # Output: Hello\n",
        "\n",
        "In short,\n",
        "\n",
        "Mutable = can be modified in place.\n",
        "\n",
        "Immutable = cannot be changed; only replaced.\n",
        "\n"
      ],
      "metadata": {
        "id": "Wr0-ZCCEUNYa"
      }
    },
    {
      "cell_type": "markdown",
      "source": [
        "**3.** What are the main differences between lists and tuples in Python?\n",
        "\n",
        "**Answer:**\n",
        "\n",
        "In Python, lists and tuples are both used to store collections of items, but they have some important differences.\n",
        "\n",
        "- The most significant difference is that lists are **mutable,** meaning we can change, add, or remove items after the list is created. For example, we can update a list element or append a new value\n",
        "\n",
        "- On the other hand, tuples are **immutable,** which means once a tuple is created, its values cannot be changed. This makes tuples more secure and reliable for fixed data.\n",
        "\n",
        "- Another difference lies in their **syntax:** lists are defined using square brackets like [1, 2, 3], while tuples use parentheses, such as (1, 2, 3).\n",
        "\n",
        "- Because of their immutability, **tuples** are faster and more memory-efficient than lists, which is useful when working with large data sets or constant values.\n",
        "\n",
        "- When it comes to  usage, we typically use a list when our data needs to change during the program's execution—like updating items in a to-do list.\n",
        "\n",
        "- In contrast, a tuple is more suitable when the data should stay constant, such as storing a pair of coordinates or a set of predefined options.\n",
        "\n",
        "\n",
        "Here is a comparision chart:\n",
        "\n",
        "\n",
        "![image.png](data:image/png;base64,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)\n"
      ],
      "metadata": {
        "id": "787UMbjXVoCC"
      }
    },
    {
      "cell_type": "markdown",
      "source": [
        "**4.** Describe how dictionaries store data?\n",
        "\n",
        "**Answer:**\n",
        "\n",
        "- Dictionaries store data as a collection of **key-value** pairs.\n",
        "- Each item in a dictionary has a **key**, which must be unique and immutable (like a string or number), and a **value**, which can be of any data type.\n",
        "- Dictionaries are enclosed in **curly braces {}** and each key is separated from its value by a **colon :**.\n",
        "\n",
        "Ex:\n",
        "\n",
        "Emp = {\"Name\": \"Nikhil Singh\", \"Age\": 28, \"Work_Exp\": \"6 years\"}\n",
        "\n",
        "In this, \"Name\", \"Age\", and \"Work_Exp\" are the keys, and \"Nikhil Singh\", 28, and \"6 years\" are their corresponding values. We can access values by using their keys (e.g., Emp[\"Name\"]), and we can also update, add, or remove key-value pairs.\n",
        "Dictionaries are unordered before Python 3.7 and preserve insertion order in newer versions."
      ],
      "metadata": {
        "id": "jnTY00T7ZP5K"
      }
    },
    {
      "cell_type": "markdown",
      "source": [
        "**5.** Why might you use a set instead of a list in Python?\n",
        "\n",
        "**Answer:**\n",
        "\n",
        "We might use a set instead of a list in Python for several reasons:\n",
        "\n",
        "- **No Duplicates**: A set automatically removes duplicate values, which is useful when you need only unique items.\n",
        "\n",
        "- **Faster Lookup**: Sets are optimized for checking if an item exists, making membership tests  much faster than in lists.\n",
        "\n",
        "- **Efficient Set Operations**: Sets support mathematical operations like union, intersection, and difference, which are useful when comparing groups of data.\n",
        "\n",
        "- **Cleaner Data**: If we are cleaning data or filtering repeats, a set helps simplify the process without writing extra code.\n",
        "\n",
        "However, sets are unordered and do not support indexing, so use them only when order and duplicates are not important."
      ],
      "metadata": {
        "id": "wyEPf09beXuK"
      }
    },
    {
      "cell_type": "markdown",
      "source": [
        "**6.** What is a string in Python, and how is it different from a list?\n",
        "\n",
        "**Answer:**\n",
        "\n",
        "\n",
        "A string in Python is a sequence of characters enclosed in quotes, like \"hello\" or 'Python'.\n",
        "- It is immutable, meaning once created, you cannot change its characters.\n",
        "- It represent and manipulate textual data.\n",
        "- Characters are represented using numerical values.\n",
        "\n",
        "A list, on the other hand, is a sequence of items (which can be of any data type—numbers, strings, etc.) enclosed in square brackets, like [1, 2, 3] or [\"a\", \"b\", \"c\"].\n",
        "Lists are mutable, so we can change, add, or remove elements after creation."
      ],
      "metadata": {
        "id": "o7QFJQmkqiSF"
      }
    },
    {
      "cell_type": "markdown",
      "source": [
        "**7.** How do tuples ensure data integrity in Python?\n",
        "\n",
        "**Answer:**\n",
        "\n",
        "Tuples ensure data integrity in Python because they are immutable, meaning once a tuple is created, its elements cannot be changed, added, or removed. This immutability guarantees that the data remains unchanged and consistent throughout the program.\n",
        "\n",
        "Benefits :\n",
        "- Prevents accidental modifications to critical data.\n",
        "\n",
        "- Makes the code safer and more predictable.\n",
        "\n",
        "- Useful when passing fixed data like coordinates, configuration settings, or constants.\n",
        "\n"
      ],
      "metadata": {
        "id": "xc_8zL9trjSz"
      }
    },
    {
      "cell_type": "markdown",
      "source": [
        "**8.** What is a hash table, and how does it relate to dictionaries in Python?\n",
        "\n",
        "**Answer:**\n",
        "\n",
        "A hash table is a data structure that stores key-value pairs and allows fast data access using a technique called hashing.\n",
        "\n",
        "- In Python, the built-in dict (dictionary) is implemented using a hash table behind the scenes.\n",
        "\n",
        "- When you store a value in a dictionary, Python uses a hash function to convert the key into a unique index.\n",
        "\n",
        "- This index tells Python where to store the value in memory.\n",
        "\n",
        "- When you look up the key later, Python hashes the key again and quickly finds the value at that index.\n",
        "\n",
        "Ex:\n",
        "\n",
        "my_dict = {\"apple\": 5, \"banana\": 3}\n",
        "\n",
        "print(my_dict[\"apple\"])  # Fast access using the hash of \"apple\"\n",
        "\n",
        "OUTPUT - 5\n",
        "\n",
        "-Only immutable and hashable types (like strings, numbers, tuples) can be used as dictionary keys because their hash value must stay constant."
      ],
      "metadata": {
        "id": "_IGdXNDDw_7b"
      }
    },
    {
      "cell_type": "markdown",
      "source": [
        "**9.** Can lists contain different data types in Python?\n",
        "\n",
        "**Answer:**\n",
        "\n",
        "Yes, lists in Python can contain different data types. Python is dynamically typed, so a list can store a mix of integers, strings, floats, booleans, other lists, or even custom objects—all in the same list.\n",
        "\n",
        "Ex:\n",
        "\n",
        "my_list = [42, \"hello\", 3.14, True, [1, 2, 3]]\n",
        "\n",
        "print(my_list)\n",
        "\n",
        "OUTPUT: [42, 'hello', 3.14, True, [1, 2, 3]]"
      ],
      "metadata": {
        "id": "otpaQjqUy0sQ"
      }
    },
    {
      "cell_type": "markdown",
      "source": [
        "**10.** Explain why strings are immutable in Python.\n",
        "\n",
        "**Answer:**\n",
        "\n",
        "Strings are immutable in Python to ensure safety, efficiency, and consistency when handling text data.\n",
        "\n",
        "1. Data Integrity\n",
        "Once a string is created, it cannot be changed. This prevents accidental changes and helps maintain the integrity of the data.\n",
        "\n",
        "2. Performance\n",
        "Since strings don’t change, Python can reuse string objects in memory (known as string interning), which improves speed and reduces memory usage.\n",
        "\n",
        "3. Hashing Support\n",
        "Immutability allows strings to be used as keys in dictionaries or elements in sets—because their hash value remains constant.\n",
        "\n",
        "Ex:\n",
        "\n",
        "text = \"hello\"\n",
        "\n",
        "text[0] = \"H\"  # Error: Strings are immutable\n",
        "\n",
        "Instead, we would create a new string:\n",
        "\n",
        "\n",
        "new_text = \"H\" + text[1:]  # \"Hello\"\n",
        "\n",
        "In short, strings are immutable in Python to support safe and optimized handling of text.\n",
        "\n"
      ],
      "metadata": {
        "id": "eLXb8sKYzYJn"
      }
    },
    {
      "cell_type": "markdown",
      "source": [
        "**11.** What advantages do dictionaries offer over lists for certain tasks?\n",
        "\n",
        "**Answer:**\n",
        "\n",
        "Dictionaries offer several advantages over lists for certain tasks, especially when dealing with key-based data retrieval:\n",
        "\n",
        "**1. Fast Lookup by Key:**\n",
        "\n",
        "Dictionaries use a hash table internally, allowing instant access to values using keys.\n",
        "\n",
        "In contrast, lists require linear search to find items.\n",
        "\n",
        "Ex:\n",
        "\n",
        "- Dictionary\n",
        "\n",
        "person = {\"name\": \"Nikhil\", \"age\": 28}\n",
        "\n",
        "print(person[\"age\"])  # Fast\n",
        "\n",
        "- List\n",
        "\n",
        "data = [(\"name\", \"Nikhil\"), (\"age\", 28)]    # Need to loop through to find \"age\"\n",
        "\n",
        "\n",
        "**2. Clear Key-Value Mapping:**\n",
        "\n",
        "Dictionaries make it easy to associate labels (keys) with values, making your code more readable and self-explanatory.\n",
        "\n",
        "Ex: student[\"grade\"] is more meaningful than student[2].\n",
        "\n",
        "**3. Flexible & Dynamic Structure:**\n",
        "\n",
        "We can add, remove, or update items easily.\n",
        "\n",
        "Useful for storing structured data like configurations, JSON, or records.\n",
        "\n",
        "**4. No Duplicates in Keys:**\n",
        "\n",
        "Ensures that each piece of information is uniquely identified.\n",
        "\n",
        "Dictionaries are better than lists when:\n",
        "\n",
        "- We need to look up data by a unique key.\n",
        "\n",
        "- We are working with named/structured data.\n",
        "\n",
        "- We want cleaner, more readable code."
      ],
      "metadata": {
        "id": "D7JUh59S2f2j"
      }
    },
    {
      "cell_type": "markdown",
      "source": [
        "**12.**  Describe a scenario where using a tuple would be preferable over a list?\n",
        "\n",
        "**Answer:**\n",
        "\n",
        "A tuple is preferable over a list when you want to store a collection of values that should not change throughout your program.\n",
        "\n",
        "We use a tuple when:\n",
        "\n",
        "- The data is constant.\n",
        "\n",
        "- We want to ensure data integrity.\n",
        "\n",
        "- We need a hashable object (e.g.for dictionary keys or set elements).\n",
        "\n",
        "Lets say we are building a calendar , and we want to store the days of the week.\n",
        "\n",
        "\n",
        "days = (\"Monday\", \"Tuesday\", \"Wednesday\", \"Thursday\", \"Friday\", \"Saturday\", \"Sunday\")\n",
        "\n",
        "We will use a tuple here because:\n",
        "\n",
        "- The days of the week are fixed and never change.\n",
        "\n",
        "- We want to prevent accidental modification to this data.\n",
        "\n",
        "- Tuples use less memory and are more efficient for constant values."
      ],
      "metadata": {
        "id": "8vyaqstR4R25"
      }
    },
    {
      "cell_type": "markdown",
      "source": [
        "**13.** How do sets handle duplicate values in Python?\n",
        "\n",
        "**Answer:**\n",
        "\n",
        "In Python, sets automatically remove duplicate values.\n",
        "A set is an unordered collection of unique elements, so if we try to add the same item more than once, it will only keep one instance.\n",
        "\n",
        "Ex:\n",
        "\n",
        "my_set = {1, 2, 2, 3, 4, 4, 5}\n",
        "\n",
        "print(my_set)\n",
        "\n",
        "Output: {1, 2, 3, 4, 5}\n",
        "\n",
        "Here 4 and 2 both were written twice in my_set but the set only stores unique values.\n",
        "\n",
        "\n",
        "This makes sets very useful for:\n",
        "\n",
        "- Removing duplicates from a list\n",
        "\n",
        "- Checking membership quickly\n",
        "\n",
        "- Comparing unique values between groups\n"
      ],
      "metadata": {
        "id": "U1OZo9_c-blt"
      }
    },
    {
      "cell_type": "markdown",
      "source": [
        "**14.** How does the “in” keyword work differently for lists and dictionaries?\n",
        "\n",
        "**Answer:**\n",
        "\n",
        "The 'in' keyword checks for membership, but it works differently depending on the data structure:\n",
        "\n",
        "For lists:\n",
        "'in' checks whether a value exists in the list.\n",
        "\n",
        "Ex :\n",
        "\n",
        "my_list = [1, 2, 3]\n",
        "\n",
        "print(2 in my_list)  # True — because 2 is a value in the list\n",
        "\n",
        "\n",
        "For dictionaries:\n",
        "'in' checks whether a key exists in the dictionary — not the value.\n",
        "\n",
        "Ex :\n",
        "\n",
        "my_dict = {\"name\": \"Alice\", \"age\": 30}\n",
        "\n",
        "print(\"name\" in my_dict)   # True — key exists\n",
        "\n",
        "print(\"Alice\" in my_dict)  # False — value, not a key\n",
        "\n",
        "So, the main difference is:\n",
        "\n",
        "Lists checks for presence of a value.\n",
        "\n",
        "Dictionaries checks for presence of a key."
      ],
      "metadata": {
        "id": "GJoH3V6mD8dy"
      }
    },
    {
      "cell_type": "markdown",
      "source": [
        "15. Can you modify the elements of a tuple? Explain why or why not?\n",
        "\n",
        "**Answer:**\n",
        "\n",
        "No, we cannot modify the elements of a tuple in Python because tuples are immutable.\n",
        "\n",
        "When a tuple is created, its contents (the elements) are fixed and cannot be changed, added to, or removed. This immutability means:\n",
        "\n",
        "- We can't assign a new value to an index in a tuple.\n",
        "\n",
        "- We can't append or remove elements like you can with lists.\n",
        "\n",
        "\n",
        "Tuples are designed to:\n",
        "\n",
        "- Protect data integrity (e.g., fixed settings or coordinates).\n",
        "\n",
        "- Be hashable, which allows them to be used as dictionary keys or in sets.\n",
        "\n",
        "- Provide performance benefits over lists in some cases due to their immutability.\n",
        "\n",
        "Ex :\n",
        "\n",
        "my_tuple = (1, 2, 3)\n",
        "\n",
        "my_tuple[1] = 10  #This will raise a TypeError\n",
        "\n",
        "If data modification is required, we can use a list instead. Tuples are ideal when the data should remain constant."
      ],
      "metadata": {
        "id": "gwWP2xnFJDLR"
      }
    },
    {
      "cell_type": "markdown",
      "source": [
        "**16.** What is a nested dictionary, and give an example of its use case?\n",
        "\n",
        "**Answer:**\n",
        "\n",
        "A nested dictionary is a dictionary that contains another dictionary as a value. It's a way to store hierarchical or structured data, like objects within objects.\n",
        "\n",
        "Nested dictionaries are useful when representing complex data structures, such as:\n",
        "\n",
        "- Student records (name, age, subject-wise marks)\n",
        "\n",
        "- JSON data from APIs\n",
        "\n",
        "- Company employee structures\n",
        "\n",
        "- Configuration settings grouped by category\n",
        "\n",
        "Ex :\n",
        "\n",
        "student = {\n",
        "    \"name\": \"Nikhil\",\n",
        "    \"grades\": {\n",
        "        \"math\": 80,\n",
        "        \"science\": 90,\n",
        "        \"english\": 85\n",
        "    },\n",
        "    \"age\": 20\n",
        "}\n",
        "\n",
        "print(student[\"grades\"][\"science\"])  # Output: 90\n",
        "\n",
        "Here, the value of the \"grades\" key is another dictionary."
      ],
      "metadata": {
        "id": "nd7-WCEPKH-V"
      }
    },
    {
      "cell_type": "markdown",
      "source": [
        "**17.** Describe the time complexity of accessing elements in a dictionary?\n",
        "\n",
        "**Answer:**\n",
        "\n",
        "Accessing an element in a Python dictionary (e.g.my_dic[key]) has an average-case time complexity of O(1) — meaning it takes constant time, regardless of the size of the dictionary.\n",
        "\n",
        "Dictionaries in Python are implemented using hash tables, so when we access a value using a key:\n",
        "\n",
        "- Python computes the hash of the key.\n",
        "\n",
        "- It uses that hash to quickly find the correct bucket.\n",
        "\n",
        "- Then, it retrieves the value — all in constant time on average.\n",
        "\n",
        "In Python, when we use a dictionary like this:\n",
        "\n",
        "\n",
        "my_dict = {\"apple\": 10, \"banana\": 5}\n",
        "print(my_dict[\"apple\"])  # → 10\n",
        "\n",
        "\n",
        "\n",
        "We are trying to find the value for the key 'apple'.\n",
        "\n",
        "Python is really smart about this and uses a system called a hash table. This helps it find the value almost instantly, no matter how big the dictionary is.\n",
        "A dictionary is like a magic locker. We give it the key (\"apple\"), and it jumps straight to the correct locker and gives us the value inside — almost instantly!\n",
        "\n",
        "\n",
        "Usually, very fast (O(1)): It takes the same amount of time whether there are 5 items or 5 million.\n",
        "\n",
        "Rarely, slow (O(n)): If something unusual happens (like too many keys end up in the same spot), it might take longer — but this is very rare.\n",
        "\n",
        "\n"
      ],
      "metadata": {
        "id": "ijR1RZMBHPHV"
      }
    },
    {
      "cell_type": "markdown",
      "source": [
        "**18.**  In what situations are lists preferred over dictionaries?\n",
        "\n",
        "**Answer:**\n",
        "\n",
        "Lists are preferred over dictionaries in situations where:\n",
        "\n",
        "- 1. Order Matters\n",
        "\n",
        "Lists keep the insertion order and are great for tasks like:\n",
        "\n",
        "\n",
        "steps = [\"wake up\", \"brush teeth\", \"eat breakfast\"]\n",
        "\n",
        "- 2. Indexing by Position\n",
        "\n",
        "When we need to access elements by position (e.g., 1st, 2nd, 3rd):\n",
        "\n",
        "\n",
        "\n",
        "print(steps[0])  # → \"wake up\"\n",
        "\n",
        "- 3. Duplicate Values Are Needed\n",
        "\n",
        "Lists can store the same value multiple times, unlike dictionaries where keys must be unique.\n",
        "\n",
        "\n",
        "- 4. Simple Sequences\n",
        "\n",
        "For simple collections like a list of numbers, names, or items, lists are lighter and easier to use.\n",
        "\n",
        "- 5. Iterating in Order\n",
        "\n",
        "If we want to loop through items in the order they appear:\n",
        "\n",
        "\n",
        "for item in steps:\n",
        "\n",
        "    print(item)\n",
        "\n",
        "\n",
        "\n"
      ],
      "metadata": {
        "id": "6kRG3QYxJqOH"
      }
    },
    {
      "cell_type": "markdown",
      "source": [
        "**19.** Why are dictionaries considered unordered, and how does that affect data retrieval?\n",
        "\n",
        "**Answer:**\n",
        "\n",
        "In earlier versions of Python (before 3.7), dictionaries did not guarantee that items would be stored or returned in the same order you added them. That's why dictionaries were traditionally called unordered collections.\n",
        "\n",
        "So even if we inserted items in a certain sequence, they could appear in a different order when we printed or looped through the dictionary.\n",
        "\n",
        "\n",
        "- Starting from Python 3.7, dictionaries now maintain insertion order by default. This means items will come out in the order we put them in.\n",
        "\n",
        "- But even though they act ordered now, they are still considered unordered in theory, because:\n",
        "\n",
        "- Their main feature is fast lookup via keys, not positional access.\n",
        "\n",
        "- The order shouldn't be relied on for core logic, especially in older or low-level code.\n",
        "\n",
        "\n",
        "- We can access any value quickly using its key (e.g., data[\"name\"]) — order doesn't matter for this.\n",
        "\n",
        "- We can’t access values by position like in a list (e.g., data[0] won't work).\n",
        "\n",
        "To Sumarrize :\n",
        "\n",
        "Dictionaries use keys, not positions, for lookup.\n",
        "\n",
        "They are unordered by design — focused on fast, key-based access.\n",
        "\n",
        "In Python 3.7+, they preserve the order of items we add, but that’s a bonus, not a guarantee to rely on in all Python environments."
      ],
      "metadata": {
        "id": "emBHxVquLmYi"
      }
    },
    {
      "cell_type": "markdown",
      "source": [
        "**20.** Explain the difference between a list and a dictionary in terms of data retrieval?\n",
        "\n",
        "**Answer:**\n",
        "\n",
        "- **List**\n",
        "\n",
        "Access by Index: Items in a list are retrieved using numerical positions (indexes).\n",
        "\n",
        "Position-Based: We must know the exact position of the item to access it.\n",
        "\n",
        "**Ex:**\n",
        "colors = [\"red\", \"green\", \"blue\"]\n",
        "\n",
        "print(colors[1])  # Output: green\n",
        "\n",
        "Use Case: When the order matters, or we're working with sequences.\n",
        "\n",
        "- **Dictionary**\n",
        "\n",
        "Access by Key: Items are retrieved using keys, not positions.\n",
        "\n",
        "Key-Based: You must know the exact key to access the value.\n",
        "\n",
        "**Ex:**\n",
        "\n",
        "color_codes = {\"red\": \"#FF0000\", \"green\": \"#00FF00\"}\n",
        "\n",
        "print(color_codes[\"green\"])  # Output: #00FF00\n",
        "\n",
        "Use Case: When data is labeled or needs meaningful identifiers for access."
      ],
      "metadata": {
        "id": "nWQ5u9lWNRKx"
      }
    },
    {
      "cell_type": "markdown",
      "source": [
        "#**Practical Questions**"
      ],
      "metadata": {
        "id": "ZtwlEtdIRDUy"
      }
    },
    {
      "cell_type": "markdown",
      "source": [
        "**01.** Write a code to create a string with your name and print it."
      ],
      "metadata": {
        "id": "pdv0_HSXRKeS"
      }
    },
    {
      "cell_type": "code",
      "source": [
        "# Create a string with name data\n",
        "my_name = \"Nikhil Singh\"\n",
        "\n",
        "# Print the string\n",
        "print(\"My name is:\", my_name)"
      ],
      "metadata": {
        "id": "20FBPqDSUK5Q",
        "colab": {
          "base_uri": "https://localhost:8080/"
        },
        "outputId": "8c4f0d38-f033-4d49-9d1a-699905742fa7"
      },
      "execution_count": 1,
      "outputs": [
        {
          "output_type": "stream",
          "name": "stdout",
          "text": [
            "My name is: Nikhil Singh\n"
          ]
        }
      ]
    },
    {
      "cell_type": "markdown",
      "source": [
        "**02.** Write a code to find the length of the string \"Hello World\"."
      ],
      "metadata": {
        "id": "F8SV6v65RsSo"
      }
    },
    {
      "cell_type": "code",
      "source": [
        "# Define the string\n",
        "my_str = \"Hello World\"\n",
        "\n",
        "# Find the length of the string using len() function\n",
        "length = len(my_str)\n",
        "\n",
        "# Print the result\n",
        "print(\"The length of the string is:\", length)"
      ],
      "metadata": {
        "colab": {
          "base_uri": "https://localhost:8080/"
        },
        "id": "l1lXUuYsRn9Y",
        "outputId": "3e64e484-4ea4-4c09-bb31-e80cd11ee927"
      },
      "execution_count": 2,
      "outputs": [
        {
          "output_type": "stream",
          "name": "stdout",
          "text": [
            "The length of the string is: 11\n"
          ]
        }
      ]
    },
    {
      "cell_type": "markdown",
      "source": [
        "**03.** Write a code to slice the first 3 characters from the string \"Python Programming\"."
      ],
      "metadata": {
        "id": "VwcHrNAOSZUI"
      }
    },
    {
      "cell_type": "code",
      "source": [
        "# Define the string\n",
        "my_str = \"Python Programming\"\n",
        "\n",
        "# Slice the first 3 characters\n",
        "x = my_str[:3]\n",
        "# x = my_str[0:3]\n",
        "# Print the result\n",
        "print(\"The first 3 characters are:\", x)"
      ],
      "metadata": {
        "colab": {
          "base_uri": "https://localhost:8080/"
        },
        "id": "DYyma5ebSTf0",
        "outputId": "c17bf3f1-695e-49ec-f77b-f4b9660c5b6b"
      },
      "execution_count": 3,
      "outputs": [
        {
          "output_type": "stream",
          "name": "stdout",
          "text": [
            "The first 3 characters are: Pyt\n"
          ]
        }
      ]
    },
    {
      "cell_type": "markdown",
      "source": [
        "**04.** Write a code to convert the string \"hello\" to uppercase."
      ],
      "metadata": {
        "id": "FZXhgsbdTCuX"
      }
    },
    {
      "cell_type": "code",
      "source": [
        "# Define the string\n",
        "my_str = \"hello\"\n",
        "\n",
        "# Convert the string to uppercase by using upper() function\n",
        "uppercase_str = my_str.upper()\n",
        "\n",
        "# Print the result\n",
        "print(\"The uppercase string is:\", uppercase_str)"
      ],
      "metadata": {
        "colab": {
          "base_uri": "https://localhost:8080/"
        },
        "id": "NBP2BczOS8MV",
        "outputId": "ad6c26b3-9214-4167-e598-454a6d9c18d0"
      },
      "execution_count": 4,
      "outputs": [
        {
          "output_type": "stream",
          "name": "stdout",
          "text": [
            "The uppercase string is: HELLO\n"
          ]
        }
      ]
    },
    {
      "cell_type": "markdown",
      "source": [
        "**05.** Write a code to replace the word \"apple\" with \"orange\" in the string \"I like apple\"."
      ],
      "metadata": {
        "id": "AvfqrnxXTiHW"
      }
    },
    {
      "cell_type": "code",
      "source": [
        "# Define the string\n",
        "my_str = \"I like apple\"\n",
        "\n",
        "# Replacing \"apple\" with \"orange\"\n",
        "x = my_str.replace(\"apple\", \"orange\")\n",
        "\n",
        "# Print the result\n",
        "print(\"The older string was:\",my_str,\"\\nBut Updated string is:\", x)"
      ],
      "metadata": {
        "colab": {
          "base_uri": "https://localhost:8080/"
        },
        "id": "XEc3SuBiTf9B",
        "outputId": "479a4819-3f54-462c-aefc-9eb0fa133a52"
      },
      "execution_count": 8,
      "outputs": [
        {
          "output_type": "stream",
          "name": "stdout",
          "text": [
            "The older string was: I like apple \n",
            "But Updated string is: I like orange\n"
          ]
        }
      ]
    },
    {
      "cell_type": "markdown",
      "source": [
        "**06.** Write a code to create a list with numbers 1 to 5 and print it"
      ],
      "metadata": {
        "id": "XWKX7XJfWiYg"
      }
    },
    {
      "cell_type": "code",
      "source": [
        "# Create the list with numbers 1 to 5\n",
        "a = [1, 2, 3, 4, 5]\n",
        "\n",
        "# Print the list\n",
        "print(\"The list is:\",a)"
      ],
      "metadata": {
        "colab": {
          "base_uri": "https://localhost:8080/"
        },
        "id": "lB5LWzsDWQ1t",
        "outputId": "338a5af6-68b2-438e-e364-b1d0dd340257"
      },
      "execution_count": 9,
      "outputs": [
        {
          "output_type": "stream",
          "name": "stdout",
          "text": [
            "The list is: [1, 2, 3, 4, 5]\n"
          ]
        }
      ]
    },
    {
      "cell_type": "markdown",
      "source": [
        "**07.** Write a code to append the number 10 to the list [1, 2, 3, 4]."
      ],
      "metadata": {
        "id": "CBLhB8OVW7-h"
      }
    },
    {
      "cell_type": "code",
      "source": [
        "# Define the list\n",
        "n = [1, 2, 3, 4]\n",
        "# Make copy of the default list for comparision\n",
        "default = n.copy()\n",
        "# Append 10 to the list using append()function.\n",
        "n.append(10)\n",
        "\n",
        "# Print the updated list\n",
        "print(\"Default list was:\",default, \"\\nUpdated list is:\", n)"
      ],
      "metadata": {
        "colab": {
          "base_uri": "https://localhost:8080/"
        },
        "id": "bYMzITNQW6dL",
        "outputId": "8546cc16-7a34-4836-dad1-ccfe99334e6b"
      },
      "execution_count": 13,
      "outputs": [
        {
          "output_type": "stream",
          "name": "stdout",
          "text": [
            "Default list was: [1, 2, 3, 4] \n",
            "Updated list is: [1, 2, 3, 4, 10]\n"
          ]
        }
      ]
    },
    {
      "cell_type": "markdown",
      "source": [
        "**8.** Write a code to remove the number 3 from the list [1, 2, 3, 4, 5]."
      ],
      "metadata": {
        "id": "MJeDfcuWYk_H"
      }
    },
    {
      "cell_type": "code",
      "source": [
        "# Define the list\n",
        "S = [1, 2, 3, 4, 5]\n",
        "\n",
        "# Removing the number 3\n",
        "S.remove(3)\n",
        "\n",
        "# Print the updated list\n",
        "print(\"Updated list:\", S)"
      ],
      "metadata": {
        "colab": {
          "base_uri": "https://localhost:8080/"
        },
        "id": "QruGCdtxXW0F",
        "outputId": "938e52e3-aa96-475e-968a-5e43e4476abc"
      },
      "execution_count": 14,
      "outputs": [
        {
          "output_type": "stream",
          "name": "stdout",
          "text": [
            "Updated list: [1, 2, 4, 5]\n"
          ]
        }
      ]
    },
    {
      "cell_type": "markdown",
      "source": [
        "**9.** Write a code to access the second element in the list ['a', 'b', 'c', 'd']"
      ],
      "metadata": {
        "id": "IDrXqR5mb4X8"
      }
    },
    {
      "cell_type": "code",
      "source": [
        "# Define the list\n",
        "n = ['a', 'b', 'c', 'd']\n",
        "\n",
        "# Access the second element as in python it is indexed from n[0], so n[1] will be 2nd element\n",
        "s_n = n[1]\n",
        "\n",
        "# Print the second element\n",
        "print(\"The second element is:\", s_n)"
      ],
      "metadata": {
        "colab": {
          "base_uri": "https://localhost:8080/"
        },
        "id": "BzgY8N7gb0TH",
        "outputId": "78306d08-aa2a-42f4-db71-80c027105cd7"
      },
      "execution_count": 16,
      "outputs": [
        {
          "output_type": "stream",
          "name": "stdout",
          "text": [
            "The second element is: b\n"
          ]
        }
      ]
    },
    {
      "cell_type": "markdown",
      "source": [
        "**10.** Write a code to reverse the list [10, 20, 30, 40, 50]"
      ],
      "metadata": {
        "id": "T2ScJ4OVdGcQ"
      }
    },
    {
      "cell_type": "code",
      "source": [
        "# Define the list\n",
        "n = [10, 20, 30, 40, 50]\n",
        "\n",
        "# Reverse the list using slicing method\n",
        "reversed_n = n[::-1]\n",
        "\n",
        "# Reverse the list using reverse() method\n",
        "# n.reverse()\n",
        "\n",
        "# Print the reversed list\n",
        "print(\"Reversed list:\", reversed_n)"
      ],
      "metadata": {
        "colab": {
          "base_uri": "https://localhost:8080/"
        },
        "id": "Fz_rITFac7aL",
        "outputId": "fc9539b3-85d1-46cb-9023-917efb0c98db"
      },
      "execution_count": 17,
      "outputs": [
        {
          "output_type": "stream",
          "name": "stdout",
          "text": [
            "Reversed list: [50, 40, 30, 20, 10]\n"
          ]
        }
      ]
    },
    {
      "cell_type": "markdown",
      "source": [
        "**11.** Write a code to create a tuple with the elements 100, 200, 300 and print it."
      ],
      "metadata": {
        "id": "L_gF4Eq5eP0A"
      }
    },
    {
      "cell_type": "code",
      "source": [
        "# Create a tuple with the elements 100, 200, 300\n",
        "my_tup = (100, 200, 300)\n",
        "\n",
        "# Print the tuple\n",
        "print(\"The tuple is:\", my_tup)"
      ],
      "metadata": {
        "colab": {
          "base_uri": "https://localhost:8080/"
        },
        "id": "Dh2E87_PdXIi",
        "outputId": "695dab4b-d4ac-4658-8bcd-d10ac5515d9c"
      },
      "execution_count": 18,
      "outputs": [
        {
          "output_type": "stream",
          "name": "stdout",
          "text": [
            "The tuple is: (100, 200, 300)\n"
          ]
        }
      ]
    },
    {
      "cell_type": "markdown",
      "source": [
        "**12.** Write a code to access the second-to-last element of the tuple ('red', 'green', 'blue', 'yellow')."
      ],
      "metadata": {
        "id": "0R6LFLIceh4o"
      }
    },
    {
      "cell_type": "code",
      "source": [
        "# Define the tuple\n",
        "my_tup = ('red', 'green', 'blue', 'yellow')\n",
        "\n",
        "# Access the second-to-last element that would be 'Blue'\n",
        "second_to_last = my_tup[-2]\n",
        "\n",
        "# Print the second-to-last element\n",
        "print(\"The second-to-last element is:\", second_to_last)"
      ],
      "metadata": {
        "colab": {
          "base_uri": "https://localhost:8080/"
        },
        "id": "WAd14I2ded9W",
        "outputId": "a8e166cf-1f68-4ad1-a60d-ca43b154c593"
      },
      "execution_count": 19,
      "outputs": [
        {
          "output_type": "stream",
          "name": "stdout",
          "text": [
            "The second-to-last element is: blue\n"
          ]
        }
      ]
    },
    {
      "cell_type": "markdown",
      "source": [
        "**13.**  Write a code to find the minimum number in the tuple (10, 20, 5, 15)."
      ],
      "metadata": {
        "id": "Qrx0IRQpe_if"
      }
    },
    {
      "cell_type": "code",
      "source": [
        "# Define the tuple\n",
        "\n",
        "my_tup = (10,20,5,15)\n",
        "\n",
        "# Find the minimum number in the tuple\n",
        "\n",
        "Min_num = min(my_tup)\n",
        "\n",
        "# Print the result\n",
        "\n",
        "print(\"The minimum number in the tuple is : \", Min_num)\n"
      ],
      "metadata": {
        "colab": {
          "base_uri": "https://localhost:8080/"
        },
        "id": "IudTRBzze3vL",
        "outputId": "4ded65d6-ff11-4dff-fb7d-91b97394897a"
      },
      "execution_count": 22,
      "outputs": [
        {
          "output_type": "stream",
          "name": "stdout",
          "text": [
            "The minimum number in the tuple is :  5\n"
          ]
        }
      ]
    },
    {
      "cell_type": "markdown",
      "source": [
        "**14.**  Write a code to find the index of the element \"cat\" in the tuple ('dog', 'cat', 'rabbit')"
      ],
      "metadata": {
        "id": "Ef3xkcbygUbR"
      }
    },
    {
      "cell_type": "code",
      "source": [
        "# Define the tuple\n",
        "\n",
        "my_tup = ('dog', 'cat', 'rabbit')\n",
        "\n",
        "# Find the index of the element \"cat\"\n",
        "\n",
        "index_of_cat = my_tup.index('cat')\n",
        "\n",
        "# Print the index\n",
        "\n",
        "print(\"The index of 'cat' is:\", index_of_cat)"
      ],
      "metadata": {
        "colab": {
          "base_uri": "https://localhost:8080/"
        },
        "id": "rWtXdGuygAL1",
        "outputId": "29d330aa-127f-4d0d-e118-8b457e3a6cfc"
      },
      "execution_count": 23,
      "outputs": [
        {
          "output_type": "stream",
          "name": "stdout",
          "text": [
            "The index of 'cat' is: 1\n"
          ]
        }
      ]
    },
    {
      "cell_type": "markdown",
      "source": [
        "**15.** Write a code to create a tuple containing three different fruits and check if \"kiwi\" is in it"
      ],
      "metadata": {
        "id": "1P1XbGtIgn-P"
      }
    },
    {
      "cell_type": "code",
      "source": [
        "# Create the tuple with three different fruits\n",
        "\n",
        "fruit_tup = ('apple', 'banana', 'orange')\n",
        "\n",
        "# Check if \"kiwi\" is in the fruit tuple\n",
        "is_kiwi_in_tup = 'kiwi' in fruit_tup\n",
        "\n",
        "# Print the result\n",
        "print(\"If 'Kiwi' is in it?\\n\", is_kiwi_in_tup)"
      ],
      "metadata": {
        "colab": {
          "base_uri": "https://localhost:8080/"
        },
        "id": "NzHZ93nsgjr7",
        "outputId": "00207d99-f3d7-43b1-992a-79ce73dbe0f0"
      },
      "execution_count": 27,
      "outputs": [
        {
          "output_type": "stream",
          "name": "stdout",
          "text": [
            "If 'Kiwi' is in it?\n",
            " False\n"
          ]
        }
      ]
    },
    {
      "cell_type": "markdown",
      "source": [
        "**16.**  Write a code to create a set with the elements 'a', 'b', 'c' and print it."
      ],
      "metadata": {
        "id": "CoQuFSLahuNu"
      }
    },
    {
      "cell_type": "code",
      "source": [
        "# Create the set with elements 'a', 'b', 'c'\n",
        "my_set = {'a', 'b', 'c'}\n",
        "\n",
        "# Print the set\n",
        "print(\"The set is:\", my_set)"
      ],
      "metadata": {
        "colab": {
          "base_uri": "https://localhost:8080/"
        },
        "id": "CJYw1rAXg-5W",
        "outputId": "287634d5-9cec-4156-c109-6b1c5e0f509e"
      },
      "execution_count": 28,
      "outputs": [
        {
          "output_type": "stream",
          "name": "stdout",
          "text": [
            "The set is: {'b', 'c', 'a'}\n"
          ]
        }
      ]
    },
    {
      "cell_type": "markdown",
      "source": [
        "**17.** Write a code to clear all elements from the set {1, 2, 3, 4, 5}."
      ],
      "metadata": {
        "id": "yShkKDD5iMDA"
      }
    },
    {
      "cell_type": "code",
      "source": [
        "# Define the set\n",
        "my_set = {1, 2, 3, 4, 5}\n",
        "\n",
        "# Clear all elements from the set using the function clear()\n",
        "my_set.clear()\n",
        "\n",
        "# Print the cleared set\n",
        "print(\"The cleared set is:\", my_set)"
      ],
      "metadata": {
        "colab": {
          "base_uri": "https://localhost:8080/"
        },
        "id": "8ahXLnSHiFUh",
        "outputId": "09ad9e80-45f4-4862-a8d1-70f4ac47372c"
      },
      "execution_count": 29,
      "outputs": [
        {
          "output_type": "stream",
          "name": "stdout",
          "text": [
            "The cleared set is: set()\n"
          ]
        }
      ]
    },
    {
      "cell_type": "markdown",
      "source": [
        "18.Write a code to remove the element 4 from the set {1, 2, 3, 4}."
      ],
      "metadata": {
        "id": "rwzDb2k2kDuU"
      }
    },
    {
      "cell_type": "code",
      "source": [
        "# Define the set\n",
        "my_set = {1, 2, 3, 4}\n",
        "\n",
        "# Remove the element 4 from the set\n",
        "my_set.remove(4)\n",
        "\n",
        "# Print the result\n",
        "print(\"The updated set is:\", my_set)"
      ],
      "metadata": {
        "colab": {
          "base_uri": "https://localhost:8080/"
        },
        "id": "n_c9Qx1midAT",
        "outputId": "81c68cac-9d5d-4ca8-ca1d-cc1fc7a2473c"
      },
      "execution_count": 30,
      "outputs": [
        {
          "output_type": "stream",
          "name": "stdout",
          "text": [
            "The updated set is: {1, 2, 3}\n"
          ]
        }
      ]
    },
    {
      "cell_type": "markdown",
      "source": [
        "**19.** Write a code to find the union of two sets {1, 2, 3} and {3, 4, 5}."
      ],
      "metadata": {
        "id": "OGEk5h1fkTw3"
      }
    },
    {
      "cell_type": "code",
      "source": [
        "# Define the two sets\n",
        "set1 = {1, 2, 3}\n",
        "set2 = {3, 4, 5}\n",
        "\n",
        "# Tthe union of the two sets using the union() function.\n",
        "#union_set = set1.union(set2)\n",
        "\n",
        "# The union of the two sets using the | operator.\n",
        "union_set = set1 | set2\n",
        "\n",
        "# Print the union of the sets\n",
        "print(\"The union of the sets is:\", union_set)"
      ],
      "metadata": {
        "colab": {
          "base_uri": "https://localhost:8080/"
        },
        "id": "cp-NHcO8kPTB",
        "outputId": "d6c61b32-7e33-4c30-ff76-4134af3605aa"
      },
      "execution_count": 31,
      "outputs": [
        {
          "output_type": "stream",
          "name": "stdout",
          "text": [
            "The union of the sets is: {1, 2, 3, 4, 5}\n"
          ]
        }
      ]
    },
    {
      "cell_type": "markdown",
      "source": [
        "**20.** Write a code to find the intersection of two sets {1, 2, 3} and {2, 3, 4}."
      ],
      "metadata": {
        "id": "Pn95KJD1k6Nv"
      }
    },
    {
      "cell_type": "code",
      "source": [
        "# Define the two sets\n",
        "set1 = {1, 2, 3}\n",
        "set2 = {2, 3, 4}\n",
        "\n",
        "# The intersection of the two sets using intersection() function.\n",
        "intersection_set = set1.intersection(set2)\n",
        "\n",
        "# The intersection of the two sets using the & operator.\n",
        "# intersection_set = set1 & set2\n",
        "\n",
        "# Print the intersection of the sets\n",
        "print(\"The intersection of the sets is:\", intersection_set)"
      ],
      "metadata": {
        "colab": {
          "base_uri": "https://localhost:8080/"
        },
        "id": "p7NfyeeFkod8",
        "outputId": "082dde92-9b9f-4ded-fcf1-d18d469bea50"
      },
      "execution_count": 32,
      "outputs": [
        {
          "output_type": "stream",
          "name": "stdout",
          "text": [
            "The intersection of the sets is: {2, 3}\n"
          ]
        }
      ]
    },
    {
      "cell_type": "markdown",
      "source": [
        "**21.** Write a code to create a dictionary with the keys \"name\", \"age\", and \"city\", and print it."
      ],
      "metadata": {
        "id": "9DQSU4g1lsXE"
      }
    },
    {
      "cell_type": "code",
      "source": [
        "# Create the dictionary\n",
        "my_dict = {\n",
        "    \"name\": \"Nikhil Singh\",\n",
        "    \"age\": 30,\n",
        "    \"city\": \"Hyderabad\"\n",
        "}\n",
        "\n",
        "# Print the dictionary\n",
        "print(\"The dictionary is:\", my_dict)"
      ],
      "metadata": {
        "colab": {
          "base_uri": "https://localhost:8080/"
        },
        "id": "LIUOheLGlnqx",
        "outputId": "aa17f4db-c234-4c79-a1f6-d69fcc6e2bce"
      },
      "execution_count": 33,
      "outputs": [
        {
          "output_type": "stream",
          "name": "stdout",
          "text": [
            "The dictionary is: {'name': 'Nikhil Singh', 'age': 30, 'city': 'Hyderabad'}\n"
          ]
        }
      ]
    },
    {
      "cell_type": "markdown",
      "source": [
        "**22.**  Write a code to add a new key-value pair \"country\": \"USA\" to the dictionary {'name': 'John', 'age': 25}."
      ],
      "metadata": {
        "id": "6GJSWAJDmJrW"
      }
    },
    {
      "cell_type": "code",
      "source": [
        "# Define the dictionary\n",
        "my_dict = {'name': 'John', 'age': 25}\n",
        "x = my_dict.copy() # Make a copy of original dictionary\n",
        "\n",
        "# Add the new key-value pair\n",
        "my_dict[\"country\"] = \"USA\"\n",
        "\n",
        "# Print the updated dictionary\n",
        "print(\"Updated dictionary:\", my_dict)\n",
        "\n",
        "# Print the original dictionary\n",
        "print(\"Original dictiob=nary:\", x )"
      ],
      "metadata": {
        "colab": {
          "base_uri": "https://localhost:8080/"
        },
        "id": "VYj925qMmCfm",
        "outputId": "eca1abef-dd36-4c92-e113-99105f9891d3"
      },
      "execution_count": 35,
      "outputs": [
        {
          "output_type": "stream",
          "name": "stdout",
          "text": [
            "Updated dictionary: {'name': 'John', 'age': 25, 'country': 'USA'}\n",
            "Original dictiob=nary: {'name': 'John', 'age': 25}\n"
          ]
        }
      ]
    },
    {
      "cell_type": "markdown",
      "source": [
        "**23.**  Write a code to access the value associated with the key \"name\" in the dictionary {'name': 'Alice', 'age': 30}."
      ],
      "metadata": {
        "id": "VVH3K8YMnFQo"
      }
    },
    {
      "cell_type": "code",
      "source": [
        "# Define the dictionary\n",
        "my_dict = {'name': 'Alice', 'age': 30}\n",
        "\n",
        "# Access the value associated with the key \"name\"\n",
        "name_value = my_dict['name']\n",
        "\n",
        "# Print the value\n",
        "print(\"The value associated with the key'name' is:\", name_value)"
      ],
      "metadata": {
        "colab": {
          "base_uri": "https://localhost:8080/"
        },
        "id": "ox3QRuglmZ7r",
        "outputId": "4611aa8f-ab9c-4b0a-f76b-ce9804e8cdda"
      },
      "execution_count": 36,
      "outputs": [
        {
          "output_type": "stream",
          "name": "stdout",
          "text": [
            "The value associated with the key'name' is: Alice\n"
          ]
        }
      ]
    },
    {
      "cell_type": "markdown",
      "source": [
        "**24.** Write a code to remove the key \"age\" from the dictionary {'name': 'Bob', 'age': 22, 'city': 'New York'}."
      ],
      "metadata": {
        "id": "7yGBAc4CndHX"
      }
    },
    {
      "cell_type": "code",
      "source": [
        "# Define the dictionary\n",
        "my_dict = {'name': 'Bob', 'age': 22, 'city': 'New York'}\n",
        "\n",
        "# Remove the key \"age\" using pop()\n",
        "my_dict.pop('age')\n",
        "\n",
        "# Remove the key \"age\"\n",
        "# del my_dict['age']\n",
        "\n",
        "# Print the updated dictionary\n",
        "print(\"Updated dictionary:\", my_dict)"
      ],
      "metadata": {
        "colab": {
          "base_uri": "https://localhost:8080/"
        },
        "id": "9ZZh4HxHnX1y",
        "outputId": "184ad4e6-c0d1-4d3f-963e-571dd9ae98b0"
      },
      "execution_count": 37,
      "outputs": [
        {
          "output_type": "stream",
          "name": "stdout",
          "text": [
            "Updated dictionary: {'name': 'Bob', 'city': 'New York'}\n"
          ]
        }
      ]
    },
    {
      "cell_type": "markdown",
      "source": [
        "**25.**  Write a code to check if the key \"city\" exists in the dictionary {'name': 'Alice', 'city': 'Paris'}."
      ],
      "metadata": {
        "id": "439rp-Crnx4Z"
      }
    },
    {
      "cell_type": "code",
      "source": [
        "# Define the dictionary\n",
        "my_dict = {'name': 'Alice', 'city': 'Paris'}\n",
        "\n",
        "# Check if the key \"city\" exists in the dictionary\n",
        "if \"city\" in my_dict:\n",
        "    print(\"The key 'city' exists in the dictionary.\")\n",
        "else:\n",
        "    print(\"The key 'city' does not exist in the dictionary.\")"
      ],
      "metadata": {
        "colab": {
          "base_uri": "https://localhost:8080/"
        },
        "id": "xOCrVja5nvvl",
        "outputId": "c38a1275-05fc-4b41-c54f-61f2da3aca38"
      },
      "execution_count": 38,
      "outputs": [
        {
          "output_type": "stream",
          "name": "stdout",
          "text": [
            "The key 'city' exists in the dictionary.\n"
          ]
        }
      ]
    },
    {
      "cell_type": "markdown",
      "source": [
        "**26.**  Write a code to create a list, a tuple, and a dictionary, and print them all."
      ],
      "metadata": {
        "id": "dj6BjsNxoBql"
      }
    },
    {
      "cell_type": "code",
      "source": [
        "# Create a list\n",
        "my_lst = [1, 2, 3, 4, 5]\n",
        "\n",
        "# Create a tuple\n",
        "my_tup = ('apple', 'banana', 'orange')\n",
        "\n",
        "# Create a dictionary\n",
        "my_dict = {'name': 'Nikhil', 'age': 30, 'city': 'Hyderabad'}\n",
        "\n",
        "# Print the list, tuple, and dictionary\n",
        "print(\"The list is:\", my_lst)\n",
        "print(\"The tuple is:\", my_tup)\n",
        "print(\"The dictionary is:\", my_dict)"
      ],
      "metadata": {
        "colab": {
          "base_uri": "https://localhost:8080/"
        },
        "id": "lJEUcf9On_vO",
        "outputId": "3df24b86-8cb6-4088-cb88-1524b8e7c63b"
      },
      "execution_count": 39,
      "outputs": [
        {
          "output_type": "stream",
          "name": "stdout",
          "text": [
            "The list is: [1, 2, 3, 4, 5]\n",
            "The tuple is: ('apple', 'banana', 'orange')\n",
            "The dictionary is: {'name': 'Nikhil', 'age': 30, 'city': 'Hyderabad'}\n"
          ]
        }
      ]
    },
    {
      "cell_type": "markdown",
      "source": [
        "**27.** Write a code to create a list of 5 random numbers between 1 and 100, sort it in ascending order, and print the\n",
        "result.(replaced)"
      ],
      "metadata": {
        "id": "SaadrMQ4obHC"
      }
    },
    {
      "cell_type": "code",
      "source": [
        "# Create a list of 5 random numbers between 1 and 100 manually\n",
        "random_numbers = [26, 7, 3, 11, 50]\n",
        "\n",
        "# Sort the list in ascending order\n",
        "random_numbers.sort()\n",
        "\n",
        "# Print the sorted list\n",
        "print(\"Sorted list of random numbers:\", random_numbers)"
      ],
      "metadata": {
        "colab": {
          "base_uri": "https://localhost:8080/"
        },
        "id": "PER9p37_oYWN",
        "outputId": "fa980d06-dad7-43cb-ccc1-29a27c1997a8"
      },
      "execution_count": 41,
      "outputs": [
        {
          "output_type": "stream",
          "name": "stdout",
          "text": [
            "Sorted list of random numbers: [3, 7, 11, 26, 50]\n"
          ]
        }
      ]
    },
    {
      "cell_type": "code",
      "source": [
        "#By Using random import to create a list of 5 random numbers between 1 and 100, sort it in ascending order, and print the result.\n",
        "\n",
        "import random\n",
        "\n",
        "# Create a list of 5 random numbers between 1 and 100\n",
        "random_numbers = [random.randint(1, 100) for _ in range(5)]\n",
        "\n",
        "# Sort the list in ascending order\n",
        "random_numbers.sort()\n",
        "\n",
        "# Print the sorted list\n",
        "print(\"Sorted list of random numbers:\", random_numbers)"
      ],
      "metadata": {
        "colab": {
          "base_uri": "https://localhost:8080/"
        },
        "id": "7Mq2Pq-Hpjmb",
        "outputId": "566e1971-4833-4e4c-8b22-4b56d89fc260"
      },
      "execution_count": 42,
      "outputs": [
        {
          "output_type": "stream",
          "name": "stdout",
          "text": [
            "Sorted list of random numbers: [51, 59, 65, 82, 96]\n"
          ]
        }
      ]
    },
    {
      "cell_type": "markdown",
      "source": [
        "**28.**  Write a code to create a list with strings and print the element at the third index."
      ],
      "metadata": {
        "id": "euZUQAeDqJkZ"
      }
    },
    {
      "cell_type": "code",
      "source": [
        "# Create a list with strings\n",
        "my_lst = ['Apple', 'banana', 'Orange', 'Kiwi', 'Papaya']\n",
        "\n",
        "# Print the element at the third index (4th element)\n",
        "print(\"The element at the third index is:\", my_lst[3])"
      ],
      "metadata": {
        "colab": {
          "base_uri": "https://localhost:8080/"
        },
        "id": "dbBkzvHHqDXq",
        "outputId": "4bbfe4b2-fca2-4a0f-e35f-93a0fcee39d0"
      },
      "execution_count": 43,
      "outputs": [
        {
          "output_type": "stream",
          "name": "stdout",
          "text": [
            "The element at the third index is: Kiwi\n"
          ]
        }
      ]
    },
    {
      "cell_type": "markdown",
      "source": [
        "**29.** Write a code to combine two dictionaries into one and print the result."
      ],
      "metadata": {
        "id": "5lzSq6MQqquv"
      }
    },
    {
      "cell_type": "code",
      "source": [
        "# Define two dictionaries\n",
        "dict1 = {'name': 'Nikhil', 'age': 30}\n",
        "dict2 = {'city': 'Hyderabad', 'country': 'India'}\n",
        "\n",
        "# Combine the dictionaries into a new one\n",
        "combined_dict = {**dict1, **dict2}\n",
        "\n",
        "# Print the combined dictionary\n",
        "print(\"Combined dictionary:\", combined_dict)"
      ],
      "metadata": {
        "colab": {
          "base_uri": "https://localhost:8080/"
        },
        "id": "_7PvHH9Eqk8h",
        "outputId": "79b71ee7-7786-4de5-83a4-82af1362b6fd"
      },
      "execution_count": 44,
      "outputs": [
        {
          "output_type": "stream",
          "name": "stdout",
          "text": [
            "Combined dictionary: {'name': 'Nikhil', 'age': 30, 'city': 'Hyderabad', 'country': 'India'}\n"
          ]
        }
      ]
    },
    {
      "cell_type": "markdown",
      "source": [
        "**30.** Write a code to convert a list of strings into a set."
      ],
      "metadata": {
        "id": "9gDAr5c5rCno"
      }
    },
    {
      "cell_type": "code",
      "source": [
        "# Create a list of strings\n",
        "my_lst = ['apple', 'banana', 'Kiwi', 'apple', 'banana', 'Kiwi','Watermelon','Papaya']\n",
        "\n",
        "# Convert the list into a set\n",
        "my_set = set(my_lst)\n",
        "\n",
        "# Print the set\n",
        "print(\"The set is:\", my_set)  #sets do not allow duplicate values"
      ],
      "metadata": {
        "colab": {
          "base_uri": "https://localhost:8080/"
        },
        "id": "mhd8OGZgq_ir",
        "outputId": "5e0b3344-5ee5-4e27-a3a8-cf97be6b5a43"
      },
      "execution_count": 45,
      "outputs": [
        {
          "output_type": "stream",
          "name": "stdout",
          "text": [
            "The set is: {'apple', 'Kiwi', 'Papaya', 'Watermelon', 'banana'}\n"
          ]
        }
      ]
    },
    {
      "cell_type": "markdown",
      "source": [
        "#END OF Assignment on 'DATA TYPES & STRUCTURES'"
      ],
      "metadata": {
        "id": "vrhETo6Lrmxp"
      }
    }
  ]
}